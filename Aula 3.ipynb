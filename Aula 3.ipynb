{
 "cells": [
  {
   "cell_type": "code",
   "execution_count": 1,
   "metadata": {},
   "outputs": [
    {
     "name": "stdout",
     "output_type": "stream",
     "text": [
      "O número digitado foi 2\n"
     ]
    }
   ],
   "source": [
    "#pede o número\n",
    "numero = int(input(\"Digite um número: \"))\n",
    "#imprimi o número\n",
    "print(\"O número informado foi\", numero)"
   ]
  },
  {
   "cell_type": "code",
   "execution_count": 2,
   "metadata": {},
   "outputs": [
    {
     "name": "stdout",
     "output_type": "stream",
     "text": [
      "A soma dos números foi 6.7\n"
     ]
    }
   ],
   "source": [
    "#pede dois números\n",
    "num1 = float(input(\"Digite um número:\"))\n",
    "num2 = float(input(\"Digite outro número:\"))\n",
    "#imprimi a soma\n",
    "soma = num1 + num2\n",
    "print(\"A soma dos números foi\", soma)"
   ]
  },
  {
   "cell_type": "code",
   "execution_count": 7,
   "metadata": {},
   "outputs": [
    {
     "name": "stdout",
     "output_type": "stream",
     "text": [
      "A média das notas é 3\n"
     ]
    }
   ],
   "source": [
    "nota1 = float(input(\"Digite a primeira nota: \"))\n",
    "nota2 = float(input(\"Digite a segunda nota: \"))\n",
    "nota3 = float(input(\"Digite a terceira nota: \"))\n",
    "media = (nota1 + nota2 +nota3)/3\n",
    "print(\"A média das notas é\", media)"
   ]
  },
  {
   "cell_type": "code",
   "execution_count": 22,
   "metadata": {},
   "outputs": [
    {
     "name": "stdout",
     "output_type": "stream",
     "text": [
      "672.0\n"
     ]
    }
   ],
   "source": [
    "dinHora = float(input(\"Quanto você ganha por hora? \"))\n",
    "horaMes = float(input(\"Quantas horas você trabalhou no mês? \"))\n",
    "salario = dinHora * horaMes\n",
    "print(salario)"
   ]
  },
  {
   "cell_type": "code",
   "execution_count": 12,
   "metadata": {},
   "outputs": [
    {
     "name": "stdout",
     "output_type": "stream",
     "text": [
      "Você vai pagar R$ 16.0  de multa\n"
     ]
    }
   ],
   "source": [
    "#pedir o peso do peixe\n",
    "pesoPeixe = float(input(\"Qual o peso do peixe: \"))\n",
    "\n",
    "#conferir se existe excesso\n",
    "if pesoPeixe > 50:\n",
    "    pesoPescado = pesoPeixe - 50\n",
    "    multaExc = pesoPescado * 4\n",
    "    print(\"Você vai pagar R$\",multaExc, \"de multa\")\n",
    "else:\n",
    "    print(\"Peso dentro do limite permitido\")"
   ]
  }
 ],
 "metadata": {
  "kernelspec": {
   "display_name": "Python 3",
   "language": "python",
   "name": "python3"
  },
  "language_info": {
   "codemirror_mode": {
    "name": "ipython",
    "version": 3
   },
   "file_extension": ".py",
   "mimetype": "text/x-python",
   "name": "python",
   "nbconvert_exporter": "python",
   "pygments_lexer": "ipython3",
   "version": "3.11.4"
  }
 },
 "nbformat": 4,
 "nbformat_minor": 2
}
