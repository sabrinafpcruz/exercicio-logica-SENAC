{
 "cells": [
  {
   "cell_type": "code",
   "execution_count": null,
   "metadata": {},
   "outputs": [],
   "source": [
    "letra = input(\"Digite uma letra: \")\n",
    "if letra in \"AaEeIiOoUu\":\n",
    "    print (\"A letra é uma vogal\")\n",
    "else:\n",
    "    print(\"A letra é uma consoante\")"
   ]
  },
  {
   "cell_type": "code",
   "execution_count": 8,
   "metadata": {},
   "outputs": [
    {
     "name": "stdout",
     "output_type": "stream",
     "text": [
      "O 3° produto é o mais barato\n"
     ]
    }
   ],
   "source": [
    "produto1 = float(input(\"Digite o preço do 1° produto: \"))\n",
    "produto2 = float(input(\"Digite o preço do 2° produto: \"))\n",
    "produto3 = float(input(\"Digite o preço do 3° produto: \"))\n",
    "\n",
    "if produto1 < produto2 and produto1 < produto3:\n",
    "    print(\"O 1° produto é o mais barato\")\n",
    "elif produto2 < produto3:\n",
    "    print(\"O 2° produto é o mais barato\")\n",
    "else:\n",
    "    print(\"O 3° produto é o mais barato\") \n"
   ]
  },
  {
   "cell_type": "code",
   "execution_count": 8,
   "metadata": {},
   "outputs": [
    {
     "name": "stdout",
     "output_type": "stream",
     "text": [
      "3.0 2.0 1.0\n"
     ]
    }
   ],
   "source": [
    "n1 = float(input(\"Digite o preço do 1° número: \"))\n",
    "n2 = float(input(\"Digite o preço do 2° número: \"))\n",
    "n3 = float(input(\"Digite o preço do 3° número: \"))\n",
    "\n",
    "if n1 < n2 and n1 < n3:\n",
    "    menor = n1\n",
    "    if n2 > n3:\n",
    "        meio = n3\n",
    "        maior = n2\n",
    "        print(menor, meio, maior)\n",
    "    else:\n",
    "        meio = n2\n",
    "        maior = n3\n",
    "        print(menor, meio, maior)\n",
    "elif n2 < n1 and n2 < n3:\n",
    "    menor = n2\n",
    "    if n1 > n3:\n",
    "        meio = n3\n",
    "        maior = n1\n",
    "        print(menor, meio, maior)\n",
    "    else:\n",
    "        meio = n1\n",
    "        maior = n3\n",
    "        print(menor, meio, maior)\n",
    "else:\n",
    "    menor = n3\n",
    "    if n1 < n2:\n",
    "        meio = n1\n",
    "        maior = n2\n",
    "        print(menor, meio, maior)\n",
    "    else:\n",
    "        meio = n2\n",
    "        maior = n1\n",
    "        print(menor, meio, maior)\n"
   ]
  },
  {
   "cell_type": "code",
   "execution_count": null,
   "metadata": {},
   "outputs": [],
   "source": [
    "turno = input(\"Qual turno você estuda? Digite M(Manhã), V(Vespertino), N(Noturno): \")\n",
    "\n",
    "if turno in \"Mm\":\n",
    "    print(\"Bom dia\")\n",
    "elif turno in \"Vv\":\n",
    "    print(\"Boa tarde\")\n",
    "elif turno in \"Nn\":\n",
    "    print(\"Boa noite\")\n",
    "else:\n",
    "    print(\"Valor Inválido\")"
   ]
  },
  {
   "cell_type": "code",
   "execution_count": 11,
   "metadata": {},
   "outputs": [
    {
     "name": "stdout",
     "output_type": "stream",
     "text": [
      "Segunda\n"
     ]
    }
   ],
   "source": [
    "dia_semana = int(input(\"Digite um número: \"))\n",
    "\n",
    "if dia_semana == 1:\n",
    "    print(\"Domingo\")\n",
    "elif dia_semana == 2:\n",
    "    print(\"Segunda\")\n",
    "elif dia_semana == 3:\n",
    "    print(\"Terça\")\n",
    "elif dia_semana == 4:\n",
    "    print(\"Quarta\")\n",
    "elif dia_semana == 5:\n",
    "    print(\"Quinta\")\n",
    "elif dia_semana == 6:\n",
    "    print(\"Sexta\")\n",
    "elif dia_semana == 7:\n",
    "    print(\"Sábado\")\n",
    "else:\n",
    "    print(\"Valor Inválido\")"
   ]
  },
  {
   "cell_type": "code",
   "execution_count": 21,
   "metadata": {},
   "outputs": [
    {
     "name": "stdout",
     "output_type": "stream",
     "text": [
      "As notas foram  4.0  e  9.0  logo sua média ficou  6.5 , seu conceito ficou C e você foi aprovado\n"
     ]
    }
   ],
   "source": [
    "n1 = float(input(\"Digite a primeira nota: \"))\n",
    "n2 = float(input(\"Digite a segunda nota: \"))\n",
    "\n",
    "media = (n1+n2)/2\n",
    "\n",
    "if media >= 9:\n",
    "    print(\"As notas foram \",n1,\" e \",n2, \" logo sua média ficou \", media, \", seu conceito ficou A e você foi aprovado\")\n",
    "elif media > 7.5 and media < 9:\n",
    "    print(\"As notas foram \",n1,\" e \",n2, \" logo sua média ficou \", media ,\", seu conceito ficou B e você foi aprovado\")\n",
    "elif media > 6 and media < 7.5:\n",
    "    print(\"As notas foram \",n1,\" e \",n2, \" logo sua média ficou \", media, \", seu conceito ficou C e você foi aprovado\")\n",
    "elif media > 4 and media < 6:\n",
    "    print(\"As notas foram \",n1,\" e \",n2, \" logo sua média ficou \", media ,\", seu conceito ficou D e você foi reprovado\")\n",
    "else:\n",
    "    print(\"As notas foram \", n1 , \" e \",n2 ,\" logo sua média ficou \", media ,\", seu conceito ficou E e você foi reprovado\")"
   ]
  },
  {
   "cell_type": "code",
   "execution_count": 11,
   "metadata": {},
   "outputs": [
    {
     "name": "stdout",
     "output_type": "stream",
     "text": [
      "Esse ano é bissexto\n"
     ]
    }
   ],
   "source": [
    "ano = int(input(\"Digite um número correspondente a um ano: \"))\n",
    "if ano%4 == 0 and ano%100 != 0 or ano%400 == 0:\n",
    "    print(\"Esse ano é bissexto\")\n",
    "else:\n",
    "    print(\"Esse ano não é bissexto\")"
   ]
  },
  {
   "cell_type": "code",
   "execution_count": 12,
   "metadata": {},
   "outputs": [],
   "source": [
    "n1 = int(input(\"Digite um número: \"))\n",
    "n2 = int(input(\"Digite outro número: \"))\n",
    "operacao = int(input(\"Qual a operação você deseja realizar? \\n Digite 1 - Soma, 2 - Subtração, 3 - Multiplicação, 4 - Divisão e 5 - Exponenciação\"))\n",
    "\n",
    "soma=n1+n2\n",
    "subtração = n1-n2\n",
    "multiplicacao=n1*n2\n",
    "divisao=n1/n2\n",
    "exponenciacao=n1**n2\n",
    "\n",
    "if operacao == 1:\n",
    "    print(\"O número \", soma, \"é \")\n",
    "    if soma%2==0:\n",
    "        print(\"par\")\n",
    "    else:\n",
    "        print(\"impar\")\n",
    "    if soma > 0:\n",
    "        print(\"positivo\")\n",
    "    else:\n",
    "        print(\"negativo\")\n",
    "    if soma == int(soma):\n",
    "        print(\"\")\n",
    "    else:\n"
   ]
  },
  {
   "cell_type": "code",
   "execution_count": 26,
   "metadata": {},
   "outputs": [
    {
     "name": "stdout",
     "output_type": "stream",
     "text": [
      "Valor inválido\n"
     ]
    }
   ],
   "source": [
    "idade = int(input(\"Digite sua idade: \"))\n",
    "\n",
    "if idade >= 0 and idade <= 150:\n",
    "    print(\"Sua idade é\", idade, \"anos\")\n",
    "else:\n",
    "    print(\"Valor inválido\")"
   ]
  },
  {
   "cell_type": "code",
   "execution_count": 27,
   "metadata": {},
   "outputs": [
    {
     "name": "stdout",
     "output_type": "stream",
     "text": [
      "6.0\n"
     ]
    }
   ],
   "source": [
    "contNum = 0\n",
    "for x in range(5):\n",
    "    num=float(input(\"Digite um número\"))\n",
    "    contNum += num\n",
    "media = contNum/5\n",
    "print(media)"
   ]
  },
  {
   "cell_type": "code",
   "execution_count": null,
   "metadata": {},
   "outputs": [],
   "source": [
    "num = float(input(\"Digite um número\"))\n",
    "if n"
   ]
  },
  {
   "cell_type": "code",
   "execution_count": null,
   "metadata": {},
   "outputs": [],
   "source": [
    "temp1 = float(input(\"Digite a 1° temperatura: \"))\n",
    "temp2 = float(input(\"Digite a 2° temperatura: \"))\n",
    "temp3 = float(input(\"Digite a 3° temperatura: \"))\n",
    "temp4 = float(input(\"Digite a 4° temperatura: \"))\n",
    "temp5 = float(input(\"Digite a 5° temperatura: \"))\n",
    "\n",
    "if temp1 > temp2 and temp1 > temp3 and temp1 > temp4 and temp1 > temp5:\n",
    "    print(temp1)\n",
    "elif temp2 > temp3 and temp4 and temp"
   ]
  }
 ],
 "metadata": {
  "kernelspec": {
   "display_name": "Python 3",
   "language": "python",
   "name": "python3"
  },
  "language_info": {
   "codemirror_mode": {
    "name": "ipython",
    "version": 3
   },
   "file_extension": ".py",
   "mimetype": "text/x-python",
   "name": "python",
   "nbconvert_exporter": "python",
   "pygments_lexer": "ipython3",
   "version": "3.11.9"
  }
 },
 "nbformat": 4,
 "nbformat_minor": 2
}
