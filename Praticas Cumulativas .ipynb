{
 "cells": [
  {
   "cell_type": "code",
   "execution_count": null,
   "metadata": {},
   "outputs": [],
   "source": [
    "letra = input(\"Digite uma letra: \")\n",
    "if letra in \"AaEeIiOoUu\":\n",
    "    print (\"A letra é uma vogal\")\n",
    "else:\n",
    "    print(\"A letra é uma consoante\")"
   ]
  },
  {
   "cell_type": "code",
   "execution_count": 8,
   "metadata": {},
   "outputs": [
    {
     "name": "stdout",
     "output_type": "stream",
     "text": [
      "O 3° produto é o mais barato\n"
     ]
    }
   ],
   "source": [
    "produto1 = float(input(\"Digite o preço do 1° produto: \"))\n",
    "produto2 = float(input(\"Digite o preço do 2° produto: \"))\n",
    "produto3 = float(input(\"Digite o preço do 3° produto: \"))\n",
    "\n",
    "if produto1 < produto2 and produto1 < produto3:\n",
    "    print(\"O 1° produto é o mais barato\")\n",
    "elif produto2 < produto3:\n",
    "    print(\"O 2° produto é o mais barato\")\n",
    "else:\n",
    "    print(\"O 3° produto é o mais barato\") \n"
   ]
  },
  {
   "cell_type": "code",
   "execution_count": 8,
   "metadata": {},
   "outputs": [
    {
     "name": "stdout",
     "output_type": "stream",
     "text": [
      "3.0 2.0 1.0\n"
     ]
    }
   ],
   "source": [
    "n1 = float(input(\"Digite o preço do 1° número: \"))\n",
    "n2 = float(input(\"Digite o preço do 2° número: \"))\n",
    "n3 = float(input(\"Digite o preço do 3° número: \"))\n",
    "\n",
    "if n1 < n2 and n1 < n3:\n",
    "    menor = n1\n",
    "    if n2 > n3:\n",
    "        meio = n3\n",
    "        maior = n2\n",
    "        print(menor, meio, maior)\n",
    "    else:\n",
    "        meio = n2\n",
    "        maior = n3\n",
    "        print(menor, meio, maior)\n",
    "elif n2 < n1 and n2 < n3:\n",
    "    menor = n2\n",
    "    if n1 > n3:\n",
    "        meio = n3\n",
    "        maior = n1\n",
    "        print(menor, meio, maior)\n",
    "    else:\n",
    "        meio = n1\n",
    "        maior = n3\n",
    "        print(menor, meio, maior)\n",
    "else:\n",
    "    menor = n3\n",
    "    if n1 < n2:\n",
    "        meio = n1\n",
    "        maior = n2\n",
    "        print(menor, meio, maior)\n",
    "    else:\n",
    "        meio = n2\n",
    "        maior = n1\n",
    "        print(menor, meio, maior)\n"
   ]
  },
  {
   "cell_type": "code",
   "execution_count": null,
   "metadata": {},
   "outputs": [],
   "source": [
    "turno = input(\"Qual turno você estuda? Digite M(Manhã), V(Vespertino), N(Noturno): \")\n",
    "\n",
    "if turno in \"Mm\":\n",
    "    print(\"Bom dia\")\n",
    "elif turno in \"Vv\":\n",
    "    print(\"Boa tarde\")\n",
    "elif turno in \"Nn\":\n",
    "    print(\"Boa noite\")\n",
    "else:\n",
    "    print(\"Valor Inválido\")"
   ]
  },
  {
   "cell_type": "code",
   "execution_count": 11,
   "metadata": {},
   "outputs": [
    {
     "name": "stdout",
     "output_type": "stream",
     "text": [
      "Segunda\n"
     ]
    }
   ],
   "source": [
    "dia_semana = int(input(\"Digite um número: \"))\n",
    "\n",
    "if dia_semana == 1:\n",
    "    print(\"Domingo\")\n",
    "elif dia_semana == 2:\n",
    "    print(\"Segunda\")\n",
    "elif dia_semana == 3:\n",
    "    print(\"Terça\")\n",
    "elif dia_semana == 4:\n",
    "    print(\"Quarta\")\n",
    "elif dia_semana == 5:\n",
    "    print(\"Quinta\")\n",
    "elif dia_semana == 6:\n",
    "    print(\"Sexta\")\n",
    "elif dia_semana == 7:\n",
    "    print(\"Sábado\")\n",
    "else:\n",
    "    print(\"Valor Inválido\")"
   ]
  },
  {
   "cell_type": "code",
   "execution_count": 21,
   "metadata": {},
   "outputs": [
    {
     "name": "stdout",
     "output_type": "stream",
     "text": [
      "As notas foram  4.0  e  9.0  logo sua média ficou  6.5 , seu conceito ficou C e você foi aprovado\n"
     ]
    }
   ],
   "source": [
    "n1 = float(input(\"Digite a primeira nota: \"))\n",
    "n2 = float(input(\"Digite a segunda nota: \"))\n",
    "\n",
    "media = (n1+n2)/2\n",
    "\n",
    "if media >= 9:\n",
    "    print(\"As notas foram \",n1,\" e \",n2, \" logo sua média ficou \", media, \", seu conceito ficou A e você foi aprovado\")\n",
    "elif media > 7.5 and media < 9:\n",
    "    print(\"As notas foram \",n1,\" e \",n2, \" logo sua média ficou \", media ,\", seu conceito ficou B e você foi aprovado\")\n",
    "elif media > 6 and media < 7.5:\n",
    "    print(\"As notas foram \",n1,\" e \",n2, \" logo sua média ficou \", media, \", seu conceito ficou C e você foi aprovado\")\n",
    "elif media > 4 and media < 6:\n",
    "    print(\"As notas foram \",n1,\" e \",n2, \" logo sua média ficou \", media ,\", seu conceito ficou D e você foi reprovado\")\n",
    "else:\n",
    "    print(\"As notas foram \", n1 , \" e \",n2 ,\" logo sua média ficou \", media ,\", seu conceito ficou E e você foi reprovado\")"
   ]
  },
  {
   "cell_type": "code",
   "execution_count": 11,
   "metadata": {},
   "outputs": [
    {
     "name": "stdout",
     "output_type": "stream",
     "text": [
      "Esse ano é bissexto\n"
     ]
    }
   ],
   "source": [
    "ano = int(input(\"Digite um número correspondente a um ano: \"))\n",
    "if ano%4 == 0 and ano%100 != 0 or ano%400 == 0:\n",
    "    print(\"Esse ano é bissexto\")\n",
    "else:\n",
    "    print(\"Esse ano não é bissexto\")"
   ]
  },
  {
   "cell_type": "code",
   "execution_count": 6,
   "metadata": {},
   "outputs": [
    {
     "name": "stdout",
     "output_type": "stream",
     "text": [
      "O número 0.875 é impar, positivo, e decimal\n"
     ]
    }
   ],
   "source": [
    "n1 = int(input(\"Digite um número: \"))\n",
    "n2 = int(input(\"Digite outro número: \"))\n",
    "operacao = int(input(\"Qual a operação você deseja realizar? \\n Digite 1 - Soma, 2 - Subtração, 3 - Multiplicação, 4 - Divisão e 5 - Exponenciação\"))\n",
    "\n",
    "soma=n1+n2\n",
    "subtracao = n1-n2\n",
    "multiplicacao=n1*n2\n",
    "divisao=n1/n2\n",
    "exponenciacao=n1**n2\n",
    "\n",
    "if operacao == 1:\n",
    "    print(\"O número\", soma, \"é\", end=' ')\n",
    "    if soma%2==0:\n",
    "        print(\"par,\", end=' ')\n",
    "    else:\n",
    "        print(\"impar,\", end=' ')\n",
    "    if soma > 0:\n",
    "        print(\"positivo,\", end=' ')\n",
    "    else:\n",
    "        print(\"negativo,\", end=' ')\n",
    "    if soma == int(soma):\n",
    "        print(\"e inteiro\", end=' ')\n",
    "    else:\n",
    "        print(\"e decimal\", end=' ')\n",
    "if operacao == 2:\n",
    "    print(\"O número\", subtracao, \"é\", end=' ')\n",
    "    if subtracao%2==0:\n",
    "        print(\"par,\", end=' ')\n",
    "    else:\n",
    "        print(\"impar,\", end=' ')\n",
    "    if subtracao > 0:\n",
    "        print(\"positivo,\", end=' ')\n",
    "    else:\n",
    "        print(\"negativo,\", end=' ')\n",
    "    if subtracao == int(subtracao):\n",
    "        print(\"e inteiro\", end=' ')\n",
    "    else:\n",
    "        print(\"e decimal\", end=' ')\n",
    "if operacao == 3:\n",
    "    print(\"O número\", multiplicacao, \"é\", end=' ')\n",
    "    if multiplicacao%2==0:\n",
    "        print(\"par,\", end=' ')\n",
    "    else:\n",
    "        print(\"impar,\", end=' ')\n",
    "    if multiplicacao > 0:\n",
    "        print(\"positivo,\", end=' ')\n",
    "    else:\n",
    "        print(\"negativo,\", end=' ')\n",
    "    if multiplicacao == int(multiplicacao):\n",
    "        print(\"e inteiro\", end=' ')\n",
    "    else:\n",
    "        print(\"e decimal\", end=' ')\n",
    "if operacao == 4:\n",
    "    print(\"O número\", divisao, \"é\", end=' ')\n",
    "    if divisao%2==0:\n",
    "        print(\"par,\", end=' ')\n",
    "    else:\n",
    "        print(\"impar,\", end=' ')\n",
    "    if divisao > 0:\n",
    "        print(\"positivo,\", end=' ')\n",
    "    else:\n",
    "        print(\"e negativo,\", end=' ')\n",
    "    if divisao == int(divisao):\n",
    "        print(\"e inteiro\")\n",
    "    else:\n",
    "        print(\"e decimal\")\n",
    "if operacao == 5:\n",
    "    print(\"O número\", multiplicacao, \"é\", end=' ')\n",
    "    if multiplicacao%2==0:\n",
    "        print(\"par,\", end=' ')\n",
    "    else:\n",
    "        print(\"impar,\", end=' ')\n",
    "    if multiplicacao > 0:\n",
    "        print(\"positivo,\", end=' ')\n",
    "    else:\n",
    "        print(\"negativo,\", end=' ')\n",
    "    if multiplicacao == int(multiplicacao):\n",
    "        print(\"e inteiro\")\n",
    "    else:\n",
    "        print(\"e decimal\")"
   ]
  },
  {
   "cell_type": "code",
   "execution_count": 26,
   "metadata": {},
   "outputs": [
    {
     "name": "stdout",
     "output_type": "stream",
     "text": [
      "Valor inválido\n"
     ]
    }
   ],
   "source": [
    "idade = int(input(\"Digite sua idade: \"))\n",
    "\n",
    "if idade >= 0 and idade <= 150:\n",
    "    print(\"Sua idade é\", idade, \"anos\")\n",
    "else:\n",
    "    print(\"Valor inválido\")"
   ]
  },
  {
   "cell_type": "code",
   "execution_count": 27,
   "metadata": {},
   "outputs": [
    {
     "name": "stdout",
     "output_type": "stream",
     "text": [
      "6.0\n"
     ]
    }
   ],
   "source": [
    "contNum = 0\n",
    "for x in range(5):\n",
    "    num=float(input(\"Digite um número\"))\n",
    "    contNum += num\n",
    "media = contNum/5\n",
    "print(media)"
   ]
  },
  {
   "cell_type": "code",
   "execution_count": 32,
   "metadata": {},
   "outputs": [
    {
     "name": "stdout",
     "output_type": "stream",
     "text": [
      "É primo\n"
     ]
    }
   ],
   "source": [
    "num = int(input(\"Digite um número\"))\n",
    "if num == 1:\n",
    "    print(\"Você digitou 1\")\n",
    "else: \n",
    "    for i in range(2, num):\n",
    "        if num % i == 0:\n",
    "            print(\"Não é primo\")\n",
    "            break\n",
    "        else:\n",
    "            print(\"É primo\")\n",
    "            break\n",
    "    "
   ]
  },
  {
   "cell_type": "code",
   "execution_count": 24,
   "metadata": {},
   "outputs": [
    {
     "name": "stdout",
     "output_type": "stream",
     "text": [
      "A maior temperatura foi 76 e menor foi -3 e a média delas ficou em 22.6\n"
     ]
    }
   ],
   "source": [
    "maior = float('-inf')\n",
    "menor = float('inf')\n",
    "soma = 0\n",
    "\n",
    "for x in range(5):\n",
    "    temp = int(input(\"Digite um valor de temperatura: \"))\n",
    "    soma += temp\n",
    "    if temp < menor:\n",
    "        menor = temp\n",
    "    if temp > maior:\n",
    "        maior = temp\n",
    "media = soma/5\n",
    "print(\"A maior temperatura foi\", maior, \"e menor foi\", menor, \"e a média delas ficou em\", media)\n"
   ]
  },
  {
   "cell_type": "code",
   "execution_count": 1,
   "metadata": {},
   "outputs": [
    {
     "name": "stdout",
     "output_type": "stream",
     "text": [
      "Seu saldo médio foi 201 logo, você não 20% de crédito\n"
     ]
    }
   ],
   "source": [
    "saldo_medio = int(input(\"Digite o saldo médio: \"))\n",
    "if saldo_medio == 0 and saldo_medio <= 200:\n",
    "    print(\"Seu saldo médio foi\", saldo_medio,\"logo, você não recebeu nenhum crédito\")\n",
    "elif saldo_medio >= 201 and saldo_medio <= 400:\n",
    "    print(\"Seu saldo médio foi\", saldo_medio,\"logo, você recebeu 20% do valor do crédito\")\n",
    "elif saldo_medio >= 401 and saldo_medio <= 600:\n",
    "    print(\"Seu saldo médio foi\", saldo_medio,\"logo, você recebeu 30% do valor do crédito\")\n",
    "elif saldo_medio >= 601:\n",
    "    print(\"Seu saldo médio foi\", saldo_medio,\"logo, você recebeu 40% do saldo do crédito\")"
   ]
  },
  {
   "cell_type": "code",
   "execution_count": 7,
   "metadata": {},
   "outputs": [
    {
     "name": "stdout",
     "output_type": "stream",
     "text": [
      "sabrina você irá se aposentar em 2070.0\n"
     ]
    }
   ],
   "source": [
    "nome = input(\"Qual o seu nome: \")\n",
    "idade = float(input(\"Qual a sua idade: \"))\n",
    "\n",
    "ano_aposentadoria = 65 - idade\n",
    "\n",
    "aposentadoria = 2024 + ano_aposentadoria\n",
    "\n",
    "print(nome, \"você irá se aposentar em\", aposentadoria)"
   ]
  },
  {
   "cell_type": "code",
   "execution_count": 23,
   "metadata": {},
   "outputs": [
    {
     "name": "stdout",
     "output_type": "stream",
     "text": [
      "O seu salario bruto 1760.0 logo seu salario liquido é 1038.4\n"
     ]
    }
   ],
   "source": [
    "valor_hora = float(input(\"Digite o valor da sua hora de trabalho: \"))\n",
    "horas_trabalhada = int(input(\"Quantas horas você trabalhou esse mês: \"))\n",
    "\n",
    "salario_bruto = valor_hora*horas_trabalhada\n",
    "\n",
    "sindicato =salario_bruto*( 30/100)\n",
    "fgts=salario_bruto*(11/100)\n",
    "\n",
    "imposto_renda1 = salario_bruto*(750/100)\n",
    "imposto_renda2 = salario_bruto*(1500/100)\n",
    "imposto_renda3 = salario_bruto*(2250/100)\n",
    "imposto_renda4 = salario_bruto*(2750/100)\n",
    "\n",
    "if salario_bruto <= 2112.00:\n",
    "    salario_liquido=salario_bruto - sindicato - fgts\n",
    "    print(\"O seu salario bruto\", salario_bruto, \"logo seu salario liquido é\",salario_liquido )\n",
    "elif salario_bruto > 2112.00 and salario_bruto <= 2826.65:\n",
    "    salario_liquido = salario_bruto - sindicato - fgts - imposto_renda1\n",
    "    print(\"O seu salario bruto\", salario_bruto, \"logo seu salario liquido é\", salario_liquido)\n",
    "elif salario_bruto > 2826.66 and salario_bruto <= 3751.05:\n",
    "    salario_liquido = salario_bruto - sindicato - fgts - imposto_renda2\n",
    "    print(\"O seu salario bruto\", salario_bruto, \"logo seu salario liquido é\", salario_liquido)\n",
    "elif salario_bruto > 3751.06 and salario_bruto <= 4664.68:\n",
    "    salario_liquido = salario_bruto - sindicato - fgts - imposto_renda3\n",
    "    print(\"O seu salario bruto\", salario_bruto, \"logo seu salario liquido é\", salario_liquido)\n",
    "else:\n",
    "    salario_liquido = salario_bruto - sindicato - fgts - imposto_renda4\n",
    "    print(\"O seu salario bruto\", salario_bruto, \"logo seu salario liquido é\", salario_liquido)"
   ]
  }
 ],
 "metadata": {
  "kernelspec": {
   "display_name": "Python 3",
   "language": "python",
   "name": "python3"
  },
  "language_info": {
   "codemirror_mode": {
    "name": "ipython",
    "version": 3
   },
   "file_extension": ".py",
   "mimetype": "text/x-python",
   "name": "python",
   "nbconvert_exporter": "python",
   "pygments_lexer": "ipython3",
   "version": "3.12.3"
  }
 },
 "nbformat": 4,
 "nbformat_minor": 2
}
