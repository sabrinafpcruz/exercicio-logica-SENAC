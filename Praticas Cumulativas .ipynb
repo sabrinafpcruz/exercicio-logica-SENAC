{
 "cells": [
  {
   "cell_type": "code",
   "execution_count": null,
   "metadata": {},
   "outputs": [],
   "source": [
    "letra = input(\"Digite uma letra: \")\n",
    "if letra in \"AaEeIiOoUu\":\n",
    "    print (\"A letra é uma vogal\")\n",
    "else:\n",
    "    print(\"A letra é uma consoante\")"
   ]
  },
  {
   "cell_type": "code",
   "execution_count": 8,
   "metadata": {},
   "outputs": [
    {
     "name": "stdout",
     "output_type": "stream",
     "text": [
      "O 3° produto é o mais barato\n"
     ]
    }
   ],
   "source": [
    "produto1 = float(input(\"Digite o preço do 1° produto: \"))\n",
    "produto2 = float(input(\"Digite o preço do 2° produto: \"))\n",
    "produto3 = float(input(\"Digite o preço do 3° produto: \"))\n",
    "\n",
    "if produto1 < produto2 and produto1 < produto3:\n",
    "    print(\"O 1° produto é o mais barato\")\n",
    "elif produto2 < produto3:\n",
    "    print(\"O 2° produto é o mais barato\")\n",
    "else:\n",
    "    print(\"O 3° produto é o mais barato\") \n"
   ]
  },
  {
   "cell_type": "code",
   "execution_count": 8,
   "metadata": {},
   "outputs": [
    {
     "name": "stdout",
     "output_type": "stream",
     "text": [
      "3.0 2.0 1.0\n"
     ]
    }
   ],
   "source": [
    "n1 = float(input(\"Digite o preço do 1° número: \"))\n",
    "n2 = float(input(\"Digite o preço do 2° número: \"))\n",
    "n3 = float(input(\"Digite o preço do 3° número: \"))\n",
    "\n",
    "if n1 < n2 and n1 < n3:\n",
    "    menor = n1\n",
    "    if n2 > n3:\n",
    "        meio = n3\n",
    "        maior = n2\n",
    "        print(menor, meio, maior)\n",
    "    else:\n",
    "        meio = n2\n",
    "        maior = n3\n",
    "        print(menor, meio, maior)\n",
    "elif n2 < n1 and n2 < n3:\n",
    "    menor = n2\n",
    "    if n1 > n3:\n",
    "        meio = n3\n",
    "        maior = n1\n",
    "        print(menor, meio, maior)\n",
    "    else:\n",
    "        meio = n1\n",
    "        maior = n3\n",
    "        print(menor, meio, maior)\n",
    "else:\n",
    "    menor = n3\n",
    "    if n1 < n2:\n",
    "        meio = n1\n",
    "        maior = n2\n",
    "        print(menor, meio, maior)\n",
    "    else:\n",
    "        meio = n2\n",
    "        maior = n1\n",
    "        print(menor, meio, maior)\n"
   ]
  },
  {
   "cell_type": "code",
   "execution_count": null,
   "metadata": {},
   "outputs": [],
   "source": [
    "turno = input(\"Qual turno você estuda? Digite M(Manhã), V(Vespertino), N(Noturno): \")\n",
    "\n",
    "if turno in \"Mm\":\n",
    "    print(\"Bom dia\")\n",
    "elif turno in \"Vv\":\n",
    "    print(\"Boa tarde\")\n",
    "elif turno in \"Nn\":\n",
    "    print(\"Boa noite\")\n",
    "else:\n",
    "    print(\"Valor Inválido\")"
   ]
  },
  {
   "cell_type": "code",
   "execution_count": 11,
   "metadata": {},
   "outputs": [
    {
     "name": "stdout",
     "output_type": "stream",
     "text": [
      "Segunda\n"
     ]
    }
   ],
   "source": [
    "dia_semana = int(input(\"Digite um número: \"))\n",
    "\n",
    "if dia_semana == 1:\n",
    "    print(\"Domingo\")\n",
    "elif dia_semana == 2:\n",
    "    print(\"Segunda\")\n",
    "elif dia_semana == 3:\n",
    "    print(\"Terça\")\n",
    "elif dia_semana == 4:\n",
    "    print(\"Quarta\")\n",
    "elif dia_semana == 5:\n",
    "    print(\"Quinta\")\n",
    "elif dia_semana == 6:\n",
    "    print(\"Sexta\")\n",
    "elif dia_semana == 7:\n",
    "    print(\"Sábado\")\n",
    "else:\n",
    "    print(\"Valor Inválido\")"
   ]
  },
  {
   "cell_type": "code",
   "execution_count": 21,
   "metadata": {},
   "outputs": [
    {
     "name": "stdout",
     "output_type": "stream",
     "text": [
      "As notas foram  4.0  e  9.0  logo sua média ficou  6.5 , seu conceito ficou C e você foi aprovado\n"
     ]
    }
   ],
   "source": [
    "n1 = float(input(\"Digite a primeira nota: \"))\n",
    "n2 = float(input(\"Digite a segunda nota: \"))\n",
    "\n",
    "media = (n1+n2)/2\n",
    "\n",
    "if media >= 9:\n",
    "    print(\"As notas foram \",n1,\" e \",n2, \" logo sua média ficou \", media, \", seu conceito ficou A e você foi aprovado\")\n",
    "elif media > 7.5 and media < 9:\n",
    "    print(\"As notas foram \",n1,\" e \",n2, \" logo sua média ficou \", media ,\", seu conceito ficou B e você foi aprovado\")\n",
    "elif media > 6 and media < 7.5:\n",
    "    print(\"As notas foram \",n1,\" e \",n2, \" logo sua média ficou \", media, \", seu conceito ficou C e você foi aprovado\")\n",
    "elif media > 4 and media < 6:\n",
    "    print(\"As notas foram \",n1,\" e \",n2, \" logo sua média ficou \", media ,\", seu conceito ficou D e você foi reprovado\")\n",
    "else:\n",
    "    print(\"As notas foram \", n1 , \" e \",n2 ,\" logo sua média ficou \", media ,\", seu conceito ficou E e você foi reprovado\")"
   ]
  },
  {
   "cell_type": "code",
   "execution_count": 11,
   "metadata": {},
   "outputs": [
    {
     "name": "stdout",
     "output_type": "stream",
     "text": [
      "Esse ano é bissexto\n"
     ]
    }
   ],
   "source": [
    "ano = int(input(\"Digite um número correspondente a um ano: \"))\n",
    "if ano%4 == 0 and ano%100 != 0 or ano%400 == 0:\n",
    "    print(\"Esse ano é bissexto\")\n",
    "else:\n",
    "    print(\"Esse ano não é bissexto\")"
   ]
  },
  {
   "cell_type": "code",
   "execution_count": 6,
   "metadata": {},
   "outputs": [
    {
     "name": "stdout",
     "output_type": "stream",
     "text": [
      "O número 0.875 é impar, positivo, e decimal\n"
     ]
    }
   ],
   "source": [
    "n1 = int(input(\"Digite um número: \"))\n",
    "n2 = int(input(\"Digite outro número: \"))\n",
    "operacao = int(input(\"Qual a operação você deseja realizar? \\n Digite 1 - Soma, 2 - Subtração, 3 - Multiplicação, 4 - Divisão e 5 - Exponenciação\"))\n",
    "\n",
    "soma=n1+n2\n",
    "subtracao = n1-n2\n",
    "multiplicacao=n1*n2\n",
    "divisao=n1/n2\n",
    "exponenciacao=n1**n2\n",
    "\n",
    "if operacao == 1:\n",
    "    print(\"O número\", soma, \"é\", end=' ')\n",
    "    if soma%2==0:\n",
    "        print(\"par,\", end=' ')\n",
    "    else:\n",
    "        print(\"impar,\", end=' ')\n",
    "    if soma > 0:\n",
    "        print(\"positivo,\", end=' ')\n",
    "    else:\n",
    "        print(\"negativo,\", end=' ')\n",
    "    if soma == int(soma):\n",
    "        print(\"e inteiro\", end=' ')\n",
    "    else:\n",
    "        print(\"e decimal\", end=' ')\n",
    "if operacao == 2:\n",
    "    print(\"O número\", subtracao, \"é\", end=' ')\n",
    "    if subtracao%2==0:\n",
    "        print(\"par,\", end=' ')\n",
    "    else:\n",
    "        print(\"impar,\", end=' ')\n",
    "    if subtracao > 0:\n",
    "        print(\"positivo,\", end=' ')\n",
    "    else:\n",
    "        print(\"negativo,\", end=' ')\n",
    "    if subtracao == int(subtracao):\n",
    "        print(\"e inteiro\", end=' ')\n",
    "    else:\n",
    "        print(\"e decimal\", end=' ')\n",
    "if operacao == 3:\n",
    "    print(\"O número\", multiplicacao, \"é\", end=' ')\n",
    "    if multiplicacao%2==0:\n",
    "        print(\"par,\", end=' ')\n",
    "    else:\n",
    "        print(\"impar,\", end=' ')\n",
    "    if multiplicacao > 0:\n",
    "        print(\"positivo,\", end=' ')\n",
    "    else:\n",
    "        print(\"negativo,\", end=' ')\n",
    "    if multiplicacao == int(multiplicacao):\n",
    "        print(\"e inteiro\", end=' ')\n",
    "    else:\n",
    "        print(\"e decimal\", end=' ')\n",
    "if operacao == 4:\n",
    "    print(\"O número\", divisao, \"é\", end=' ')\n",
    "    if divisao%2==0:\n",
    "        print(\"par,\", end=' ')\n",
    "    else:\n",
    "        print(\"impar,\", end=' ')\n",
    "    if divisao > 0:\n",
    "        print(\"positivo,\", end=' ')\n",
    "    else:\n",
    "        print(\"e negativo,\", end=' ')\n",
    "    if divisao == int(divisao):\n",
    "        print(\"e inteiro\")\n",
    "    else:\n",
    "        print(\"e decimal\")\n",
    "if operacao == 5:\n",
    "    print(\"O número\", multiplicacao, \"é\", end=' ')\n",
    "    if multiplicacao%2==0:\n",
    "        print(\"par,\", end=' ')\n",
    "    else:\n",
    "        print(\"impar,\", end=' ')\n",
    "    if multiplicacao > 0:\n",
    "        print(\"positivo,\", end=' ')\n",
    "    else:\n",
    "        print(\"negativo,\", end=' ')\n",
    "    if multiplicacao == int(multiplicacao):\n",
    "        print(\"e inteiro\")\n",
    "    else:\n",
    "        print(\"e decimal\")"
   ]
  },
  {
   "cell_type": "code",
   "execution_count": 26,
   "metadata": {},
   "outputs": [
    {
     "name": "stdout",
     "output_type": "stream",
     "text": [
      "Valor inválido\n"
     ]
    }
   ],
   "source": [
    "idade = int(input(\"Digite sua idade: \"))\n",
    "\n",
    "if idade >= 0 and idade <= 150:\n",
    "    print(\"Sua idade é\", idade, \"anos\")\n",
    "else:\n",
    "    print(\"Valor inválido\")"
   ]
  },
  {
   "cell_type": "code",
   "execution_count": 27,
   "metadata": {},
   "outputs": [
    {
     "name": "stdout",
     "output_type": "stream",
     "text": [
      "6.0\n"
     ]
    }
   ],
   "source": [
    "contNum = 0\n",
    "for x in range(5):\n",
    "    num=float(input(\"Digite um número\"))\n",
    "    contNum += num\n",
    "media = contNum/5\n",
    "print(media)"
   ]
  },
  {
   "cell_type": "code",
   "execution_count": 32,
   "metadata": {},
   "outputs": [
    {
     "name": "stdout",
     "output_type": "stream",
     "text": [
      "É primo\n"
     ]
    }
   ],
   "source": [
    "num = int(input(\"Digite um número\"))\n",
    "if num == 1:\n",
    "    print(\"Você digitou 1\")\n",
    "else: \n",
    "    for i in range(2, num):\n",
    "        if num % i == 0:\n",
    "            print(\"Não é primo\")\n",
    "            break\n",
    "        else:\n",
    "            print(\"É primo\")\n",
    "            break\n",
    "    "
   ]
  },
  {
   "cell_type": "code",
   "execution_count": 38,
   "metadata": {},
   "outputs": [
    {
     "ename": "TypeError",
     "evalue": "'<' not supported between instances of 'int' and 'NoneType'",
     "output_type": "error",
     "traceback": [
      "\u001b[1;31m---------------------------------------------------------------------------\u001b[0m",
      "\u001b[1;31mTypeError\u001b[0m                                 Traceback (most recent call last)",
      "Cell \u001b[1;32mIn[38], line 9\u001b[0m\n\u001b[0;32m      7\u001b[0m soma \u001b[38;5;241m+\u001b[39m\u001b[38;5;241m=\u001b[39m temp\n\u001b[0;32m      8\u001b[0m \u001b[38;5;28;01mif\u001b[39;00m menor \u001b[38;5;129;01mis\u001b[39;00m \u001b[38;5;28;01mNone\u001b[39;00m:\n\u001b[1;32m----> 9\u001b[0m     \u001b[38;5;28;01mif\u001b[39;00m \u001b[43mtemp\u001b[49m\u001b[43m \u001b[49m\u001b[38;5;241;43m<\u001b[39;49m\u001b[43m \u001b[49m\u001b[43mmenor\u001b[49m:\n\u001b[0;32m     10\u001b[0m         menor \u001b[38;5;241m=\u001b[39m temp\n\u001b[0;32m     11\u001b[0m \u001b[38;5;28;01mif\u001b[39;00m menor \u001b[38;5;129;01mis\u001b[39;00m \u001b[38;5;28;01mNone\u001b[39;00m:\n",
      "\u001b[1;31mTypeError\u001b[0m: '<' not supported between instances of 'int' and 'NoneType'"
     ]
    }
   ],
   "source": [
    "maior = None\n",
    "menor = None\n",
    "soma = 0\n",
    "\n",
    "for x in range(5):\n",
    "    temp = int(input(\"Digite um valor de temperatura: \"))\n",
    "    soma += temp\n",
    "    if menor is None:\n",
    "        if temp < menor:\n",
    "            menor = temp\n",
    "    if menor is None:\n",
    "        if temp > maior:\n",
    "            maior = temp\n",
    "media = soma/5\n",
    "print(\"A maior temperatura foi\", maior, \"e menor foi\", menor, \"e a média delas ficou em\", media)\n"
   ]
  },
  {
   "cell_type": "code",
   "execution_count": null,
   "metadata": {},
   "outputs": [],
   "source": []
  }
 ],
 "metadata": {
  "kernelspec": {
   "display_name": "Python 3",
   "language": "python",
   "name": "python3"
  },
  "language_info": {
   "codemirror_mode": {
    "name": "ipython",
    "version": 3
   },
   "file_extension": ".py",
   "mimetype": "text/x-python",
   "name": "python",
   "nbconvert_exporter": "python",
   "pygments_lexer": "ipython3",
   "version": "3.11.9"
  }
 },
 "nbformat": 4,
 "nbformat_minor": 2
}
