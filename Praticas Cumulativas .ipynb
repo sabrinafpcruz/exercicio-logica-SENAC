{
 "cells": [
  {
   "cell_type": "code",
   "execution_count": null,
   "metadata": {},
   "outputs": [],
   "source": [
    "letra = input(\"Digite uma letra: \")\n",
    "if letra in \"AaEeIiOoUu\":\n",
    "    print (\"A letra é uma vogal\")\n",
    "else:\n",
    "    print(\"A letra é uma consoante\")"
   ]
  },
  {
   "cell_type": "code",
   "execution_count": 8,
   "metadata": {},
   "outputs": [
    {
     "name": "stdout",
     "output_type": "stream",
     "text": [
      "O 3° produto é o mais barato\n"
     ]
    }
   ],
   "source": [
    "produto1 = float(input(\"Digite o preço do 1° produto: \"))\n",
    "produto2 = float(input(\"Digite o preço do 2° produto: \"))\n",
    "produto3 = float(input(\"Digite o preço do 3° produto: \"))\n",
    "\n",
    "if produto1 < produto2 and produto1 < produto3:\n",
    "    print(\"O 1° produto é o mais barato\")\n",
    "elif produto2 < produto3:\n",
    "    print(\"O 2° produto é o mais barato\")\n",
    "else:\n",
    "    print(\"O 3° produto é o mais barato\") \n"
   ]
  },
  {
   "cell_type": "code",
   "execution_count": null,
   "metadata": {},
   "outputs": [],
   "source": [
    "n1 = float(input(\"Digite o preço do 1° número: \"))\n",
    "n2 = float(input(\"Digite o preço do 2° número: \"))\n",
    "n3 = float(input(\"Digite o preço do 3° número: \"))\n",
    "\n",
    "if n1 > n2 and n1 > n3:\n",
    "    if n2 > n3:\n",
    "        print(n1, n2, n3)\n",
    "    elif "
   ]
  },
  {
   "cell_type": "code",
   "execution_count": null,
   "metadata": {},
   "outputs": [],
   "source": [
    "turno = input(\"Qual turno você estuda? Digite M(Manhã), V(Vespertino), N(Noturno): \")\n",
    "\n",
    "if turno in \"Mm\":\n",
    "    print(\"Bom dia\")\n",
    "elif turno in \"Vv\":\n",
    "    print(\"Boa tarde\")\n",
    "elif turno in \"Nn\":\n",
    "    print(\"Boa noite\")\n",
    "else:\n",
    "    print(\"Valor Inválido\")"
   ]
  },
  {
   "cell_type": "code",
   "execution_count": 11,
   "metadata": {},
   "outputs": [
    {
     "name": "stdout",
     "output_type": "stream",
     "text": [
      "Segunda\n"
     ]
    }
   ],
   "source": [
    "dia_semana = int(input(\"Digite um número: \"))\n",
    "\n",
    "if dia_semana == 1:\n",
    "    print(\"Domingo\")\n",
    "elif dia_semana == 2:\n",
    "    print(\"Segunda\")\n",
    "elif dia_semana == 3:\n",
    "    print(\"Terça\")\n",
    "elif dia_semana == 4:\n",
    "    print(\"Quarta\")\n",
    "elif dia_semana == 5:\n",
    "    print(\"Quinta\")\n",
    "elif dia_semana == 6:\n",
    "    print(\"Sexta\")\n",
    "elif dia_semana == 7:\n",
    "    print(\"Sábado\")\n",
    "else:\n",
    "    print(\"Valor Inválido\")"
   ]
  },
  {
   "cell_type": "code",
   "execution_count": 21,
   "metadata": {},
   "outputs": [
    {
     "name": "stdout",
     "output_type": "stream",
     "text": [
      "As notas foram  4.0  e  9.0  logo sua média ficou  6.5 , seu conceito ficou C e você foi aprovado\n"
     ]
    }
   ],
   "source": [
    "n1 = float(input(\"Digite a primeira nota: \"))\n",
    "n2 = float(input(\"Digite a segunda nota: \"))\n",
    "\n",
    "media = (n1+n2)/2\n",
    "\n",
    "if media >= 9:\n",
    "    print(\"As notas foram \",n1,\" e \",n2, \" logo sua média ficou \", media, \", seu conceito ficou A e você foi aprovado\")\n",
    "elif media > 7.5 and media < 9:\n",
    "    print(\"As notas foram \",n1,\" e \",n2, \" logo sua média ficou \", media ,\", seu conceito ficou B e você foi aprovado\")\n",
    "elif media > 6 and media < 7.5:\n",
    "    print(\"As notas foram \",n1,\" e \",n2, \" logo sua média ficou \", media, \", seu conceito ficou C e você foi aprovado\")\n",
    "elif media > 4 and media < 6:\n",
    "    print(\"As notas foram \",n1,\" e \",n2, \" logo sua média ficou \", media ,\", seu conceito ficou D e você foi reprovado\")\n",
    "else:\n",
    "    print(\"As notas foram \", n1 , \" e \",n2 ,\" logo sua média ficou \", media ,\", seu conceito ficou E e você foi reprovado\")"
   ]
  },
  {
   "cell_type": "code",
   "execution_count": 26,
   "metadata": {},
   "outputs": [
    {
     "name": "stdout",
     "output_type": "stream",
     "text": [
      "Valor inválido\n"
     ]
    }
   ],
   "source": [
    "idade = int(input(\"Digite sua idade: \"))\n",
    "\n",
    "if idade >= 0 and idade <= 150:\n",
    "    print(\"Sua idade é\", idade, \"anos\")\n",
    "else:\n",
    "    print(\"Valor inválido\")"
   ]
  },
  {
   "cell_type": "code",
   "execution_count": 27,
   "metadata": {},
   "outputs": [
    {
     "name": "stdout",
     "output_type": "stream",
     "text": [
      "6.0\n"
     ]
    }
   ],
   "source": [
    "contNum = 0\n",
    "for x in range(5):\n",
    "    num=float(input(\"Digite um número\"))\n",
    "    contNum += num\n",
    "media = contNum/5\n",
    "print(media)"
   ]
  },
  {
   "cell_type": "code",
   "execution_count": null,
   "metadata": {},
   "outputs": [],
   "source": [
    "num = float(input(\"Digite um número\"))\n",
    "if n"
   ]
  },
  {
   "cell_type": "code",
   "execution_count": null,
   "metadata": {},
   "outputs": [],
   "source": [
    "temp1 = float(input(\"Digite a 1° temperatura: \"))\n",
    "temp2 = float(input(\"Digite a 2° temperatura: \"))\n",
    "temp3 = float(input(\"Digite a 3° temperatura: \"))\n",
    "temp4 = float(input(\"Digite a 4° temperatura: \"))\n",
    "temp5 = float(input(\"Digite a 5° temperatura: \"))\n",
    "\n",
    "if temp1 > temp2 and temp1 > temp3 and temp1 > temp4 and temp1 > temp5:\n",
    "    print(temp1)\n",
    "elif temp2 > temp3 and temp4 and temp"
   ]
  }
 ],
 "metadata": {
  "kernelspec": {
   "display_name": "Python 3",
   "language": "python",
   "name": "python3"
  },
  "language_info": {
   "codemirror_mode": {
    "name": "ipython",
    "version": 3
   },
   "file_extension": ".py",
   "mimetype": "text/x-python",
   "name": "python",
   "nbconvert_exporter": "python",
   "pygments_lexer": "ipython3",
   "version": "3.11.4"
  }
 },
 "nbformat": 4,
 "nbformat_minor": 2
}
