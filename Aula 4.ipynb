{
 "cells": [
  {
   "cell_type": "code",
   "execution_count": 1,
   "metadata": {},
   "outputs": [
    {
     "name": "stdout",
     "output_type": "stream",
     "text": [
      "1.0\n"
     ]
    }
   ],
   "source": [
    "numInt1 = int(input(\"Digite um número inteiro: \"))\n",
    "numInt2 = int(input(\"Digite outro número inteiro: \"))\n",
    "numReal = float(input(\"Digite um número real: \"))\n",
    "\n",
    "calculoDobro= (numInt1 *2) * (numInt2 * 0.5)\n",
    "print(\"O produto do dobro do primeiro com metade do segundo é: \", calculoDobro)\n",
    "\n",
    "calculoTriplo = (numInt1*3)+(numReal**3)\n",
    "print(\"A soma do triplo do primeiro com o terceiro. o terceiro elevado ao cubo é: \",calculoTriplo)"
   ]
  },
  {
   "cell_type": "code",
   "execution_count": 10,
   "metadata": {},
   "outputs": [
    {
     "name": "stdout",
     "output_type": "stream",
     "text": [
      "O maior número é  6.0\n"
     ]
    }
   ],
   "source": [
    "n1 = float(input(\"Digite um número: \"))\n",
    "n2 = float(input(\"Digite outro número: \"))\n",
    "if n1 > n2:\n",
    "    print(\"O maior número é \",n1)\n",
    "else:\n",
    "    print(\"O maior número é \",n2)"
   ]
  },
  {
   "cell_type": "code",
   "execution_count": 9,
   "metadata": {},
   "outputs": [
    {
     "name": "stdout",
     "output_type": "stream",
     "text": [
      "O número é positivo\n"
     ]
    }
   ],
   "source": [
    "n1 = float(input(\"Digite um número: \"))\n",
    "if n1 > 0:\n",
    "    print(\"O número é positivo\")\n",
    "else:\n",
    "    print(\"O número é negativo\")"
   ]
  },
  {
   "cell_type": "code",
   "execution_count": 7,
   "metadata": {},
   "outputs": [
    {
     "name": "stdout",
     "output_type": "stream",
     "text": [
      "Aprovado\n"
     ]
    }
   ],
   "source": [
    "n1 = float(input(\"Digite um número: \"))\n",
    "n2 = float(input(\"Digite um número: \"))\n",
    "media = (n1+n2)/2\n",
    "if media >= 7:\n",
    "    print(\"Aprovado\")\n",
    "else:\n",
    "    print(\"Reprovado\")"
   ]
  },
  {
   "cell_type": "code",
   "execution_count": 4,
   "metadata": {},
   "outputs": [
    {
     "name": "stdout",
     "output_type": "stream",
     "text": [
      "O número  3.0 é maior\n"
     ]
    }
   ],
   "source": [
    "n1 = float(input(\"Digite um número: \"))\n",
    "n2 = float(input(\"Digite um número: \"))\n",
    "n3 = float(input(\"Digite um número: \"))\n",
    "\n",
    "if n1 > n2 and n1 > n3:\n",
    "    print(\"O número \", n1, \"é maior\")\n",
    "elif n2 > n3:\n",
    "    print(\"O número \", n2, \"é maior\")\n",
    "else:\n",
    "    print(\"O número \", n3, \"é maior\")\n",
    "\n",
    "    "
   ]
  }
 ],
 "metadata": {
  "kernelspec": {
   "display_name": "Python 3",
   "language": "python",
   "name": "python3"
  },
  "language_info": {
   "codemirror_mode": {
    "name": "ipython",
    "version": 3
   },
   "file_extension": ".py",
   "mimetype": "text/x-python",
   "name": "python",
   "nbconvert_exporter": "python",
   "pygments_lexer": "ipython3",
   "version": "3.11.4"
  }
 },
 "nbformat": 4,
 "nbformat_minor": 2
}
