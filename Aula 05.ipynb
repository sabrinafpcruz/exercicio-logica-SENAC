{
 "cells": [
  {
   "cell_type": "code",
   "execution_count": 2,
   "metadata": {},
   "outputs": [
    {
     "name": "stdout",
     "output_type": "stream",
     "text": [
      "A taxa do carro a ser paga é:  300.0\n"
     ]
    }
   ],
   "source": [
    "anoCarro= int(input(\"Digite o ano do carro: \"))\n",
    "precoCarro= float(input(\"Digite o preço do carro: \"))\n",
    "if anoCarro < 1990:\n",
    "    taxa1=(1/100) * precoCarro\n",
    "    print(\"A taxa do carro a ser paga é: \",taxa1)\n",
    "else:\n",
    "    taxa2=(1.5/100)*precoCarro\n",
    "    print(\"A taxa do carro a ser paga é: \",taxa2)\n"
   ]
  },
  {
   "cell_type": "code",
   "execution_count": 13,
   "metadata": {},
   "outputs": [
    {
     "name": "stdout",
     "output_type": "stream",
     "text": [
      "Seu salário era R$ 1720.0 agora está R$ 2064.0 com uma diferença de R$ 344.0\n"
     ]
    }
   ],
   "source": [
    "salario=float(input(\"Digite seu salário: \"))\n",
    "cargo=int(input(\"Qual o seu cargo? 1 - Gerente | 2 - Engenheiro | 3 - Técnico | 4 - Outro\"))\n",
    "if cargo == 1:\n",
    "    aumento1 = salario * (10/100)\n",
    "    salarioNovo1 = salario + aumento1\n",
    "    print(\"Seu salário era R$\", salario, \"agora está R$\", salarioNovo1, \"com uma diferença de R$\",salarioNovo1-salario)\n",
    "elif cargo == 2:\n",
    "    aumento2 = salario * (20/100)\n",
    "    salarioNovo2 = salario + aumento2\n",
    "    print(\"Seu salário era R$\", salario, \"agora está R$\", salarioNovo2, \"com uma diferença de R$\",salarioNovo2-salario)\n",
    "elif cargo == 3:\n",
    "    aumento3 = salario * (30/100)\n",
    "    salarioNovo3 = salario + aumento3\n",
    "    print(\"Seu salário era R$\", salario, \"agora está R$\", salarioNovo3, \"com uma diferença de R$\",salarioNovo3-salario)\n",
    "else:\n",
    "    aumento4 = salario * (40/100)\n",
    "    salarioNovo4 = salario + aumento4\n",
    "    print(\"Seu salário era R$\", salario, \"agora está R$\", salarioNovo4, \"com uma diferença de R$\",salarioNovo4-salario)"
   ]
  }
 ],
 "metadata": {
  "kernelspec": {
   "display_name": "Python 3",
   "language": "python",
   "name": "python3"
  },
  "language_info": {
   "codemirror_mode": {
    "name": "ipython",
    "version": 3
   },
   "file_extension": ".py",
   "mimetype": "text/x-python",
   "name": "python",
   "nbconvert_exporter": "python",
   "pygments_lexer": "ipython3",
   "version": "3.11.4"
  }
 },
 "nbformat": 4,
 "nbformat_minor": 2
}
