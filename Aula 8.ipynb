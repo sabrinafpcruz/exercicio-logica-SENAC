{
 "cells": [
  {
   "cell_type": "code",
   "execution_count": 42,
   "metadata": {},
   "outputs": [
    {
     "name": "stdout",
     "output_type": "stream",
     "text": [
      "5 patinhos foram passear, \n",
      " Além das montanhas para brincar, \n",
      " A mamãe gritou qua qua qua, \n",
      " Mas só 4 voltaram de lá\n",
      "5 patinhos foram passear, \n",
      " Além das montanhas para brincar, \n",
      " A mamãe gritou qua qua qua, \n",
      " Mas só 3 voltaram de lá\n",
      "5 patinhos foram passear, \n",
      " Além das montanhas para brincar, \n",
      " A mamãe gritou qua qua qua, \n",
      " Mas só 2 voltaram de lá\n",
      "5 patinhos foram passear, \n",
      " Além das montanhas para brincar, \n",
      " A mamãe gritou qua qua qua, \n",
      " Mas só 1 voltaram de lá\n",
      "5 patinhos foram passear, \n",
      " Além das montanhas para brincar, \n",
      " A mamãe gritou qua qua qua, \n",
      " Mas só 0 voltaram de lá\n"
     ]
    }
   ],
   "source": [
    "cont = 5\n",
    "n = 5\n",
    "for patos in range(n):\n",
    "        print(n, \"patinhos foram passear, \\n Além das montanhas para brincar, \\n A mamãe gritou quá quá quá, \\n Mas só\", cont-1, \"voltaram de lá\")\n",
    "        cont-=1"
   ]
  },
  {
   "cell_type": "code",
   "execution_count": 188,
   "metadata": {},
   "outputs": [
    {
     "name": "stdout",
     "output_type": "stream",
     "text": [
      "Mariana conta 1 é\n",
      "1\n",
      "Mariana conta 2 é\n",
      "1 é 2\n",
      "Mariana conta 3 é\n",
      "1 é 2 é 3\n",
      "Mariana conta 4 é\n",
      "1 é 2 é 3 é 4\n",
      "Mariana conta 5 é\n",
      "1 é 2 é 3 é 4 é 5\n",
      "Mariana conta 6 é\n",
      "1 é 2 é 3 é 4 é 5 é 6\n",
      "Mariana conta 7 é\n",
      "1 é 2 é 3 é 4 é 5 é 6 é 7\n",
      "Mariana conta 8 é\n",
      "1 é 2 é 3 é 4 é 5 é 6 é 7 é 8\n",
      "Mariana conta 9 é\n",
      "1 é 2 é 3 é 4 é 5 é 6 é 7 é 8 é 9\n",
      "Mariana conta 10 é\n",
      "1 é 2 é 3 é 4 é 5 é 6 é 7 é 8 é 9 é 10\n"
     ]
    }
   ],
   "source": [
    "n = 10\n",
    "x =1\n",
    "for x in range(1,n+1):\n",
    "    z = x\n",
    "    print(\"Mariana conta\", x,\"é\")\n",
    "    for y in range(1,x):\n",
    "        if y != 0:\n",
    "            print(y, end=\" é \")\n",
    "    print(x)"
   ]
  },
  {
   "cell_type": "code",
   "execution_count": 156,
   "metadata": {},
   "outputs": [
    {
     "name": "stdout",
     "output_type": "stream",
     "text": [
      "1 elefante incomoda muita gente\n",
      "2 elefantes  incomodam incomodam, muito mais\n",
      "3 elefantes incomodam muita gente\n",
      "4 elefantes  incomodam incomodam incomodam incomodam, muito mais\n",
      "5 elefantes incomodam muita gente\n",
      "6 elefantes  incomodam incomodam incomodam incomodam incomodam incomodam, muito mais\n",
      "7 elefantes incomodam muita gente\n",
      "8 elefantes  incomodam incomodam incomodam incomodam incomodam incomodam incomodam incomodam, muito mais\n",
      "9 elefantes incomodam muita gente\n",
      "10 elefantes  incomodam incomodam incomodam incomodam incomodam incomodam incomodam incomodam incomodam incomodam, muito mais\n"
     ]
    }
   ],
   "source": [
    "for x in range(1,11):\n",
    "    if x == 1:\n",
    "        if x%2 == 0:\n",
    "            print(x, \"elefante\",(\" incomoda\")*x, \", muito mais\")\n",
    "        else:\n",
    "            print(x, \"elefante incomoda muita gente\")\n",
    "    else:\n",
    "        if x%2 == 0:\n",
    "            print(x, \"elefantes\",(\" incomodam\")*x, end=\"\")\n",
    "            print(\", muito mais\")\n",
    "        else:\n",
    "            print(x, \"elefantes incomodam muita gente\")"
   ]
  }
 ],
 "metadata": {
  "kernelspec": {
   "display_name": "Python 3",
   "language": "python",
   "name": "python3"
  },
  "language_info": {
   "codemirror_mode": {
    "name": "ipython",
    "version": 3
   },
   "file_extension": ".py",
   "mimetype": "text/x-python",
   "name": "python",
   "nbconvert_exporter": "python",
   "pygments_lexer": "ipython3",
   "version": "3.11.4"
  }
 },
 "nbformat": 4,
 "nbformat_minor": 2
}
