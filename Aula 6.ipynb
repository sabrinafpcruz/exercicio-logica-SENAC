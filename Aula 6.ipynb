{
 "cells": [
  {
   "cell_type": "code",
   "execution_count": 5,
   "metadata": {},
   "outputs": [
    {
     "data": {
      "text/plain": [
       "3"
      ]
     },
     "execution_count": 5,
     "metadata": {},
     "output_type": "execute_result"
    }
   ],
   "source": [
    "#criando lista e puxando o indice de uma lista\n",
    "dias = [3,1,10]\n",
    "dias[0]"
   ]
  },
  {
   "cell_type": "code",
   "execution_count": 6,
   "metadata": {},
   "outputs": [
    {
     "data": {
      "text/plain": [
       "[7, 8, 9]"
      ]
     },
     "execution_count": 6,
     "metadata": {},
     "output_type": "execute_result"
    }
   ],
   "source": [
    "#atribuindo outro valor a um indice da lista\n",
    "Z = [3,8,9]\n",
    "Z[0] = 7\n",
    "Z"
   ]
  },
  {
   "cell_type": "code",
   "execution_count": 16,
   "metadata": {},
   "outputs": [
    {
     "name": "stdout",
     "output_type": "stream",
     "text": [
      "True\n",
      "True\n",
      "[5, 7, 5, 8, 9]\n",
      "[5, 7, 5, 8, 9]\n"
     ]
    }
   ],
   "source": [
    "#\n",
    "V = [6,7,5,8,9]\n",
    "L = V\n",
    "print(V==L)\n",
    "print(V is L)\n",
    "L[0]=5\n",
    "print(L)\n",
    "print(V)"
   ]
  },
  {
   "cell_type": "code",
   "execution_count": 8,
   "metadata": {},
   "outputs": [],
   "source": [
    "a = [81,82,83]\n",
    "#cria um clone com fatia\n",
    "b = a[:]\n",
    "print(a == b)\n",
    "print(a is b)\n",
    "b[0] = 5\n",
    "print(a)\n",
    "print(b)"
   ]
  },
  {
   "cell_type": "code",
   "execution_count": 18,
   "metadata": {},
   "outputs": [
    {
     "name": "stdout",
     "output_type": "stream",
     "text": [
      "['b', 'c']\n",
      "['a', 'b', 'c', 'd']\n",
      "['d', 'e', 'f']\n",
      "['a', 'b', 'c', 'd', 'e', 'f']\n"
     ]
    }
   ],
   "source": [
    "#retorno o indice de um valor até/\":\" outro\n",
    "uma_lista = ['a', 'b','c','d','e','f']\n",
    "\n",
    "#retorna o valor do indice 1 até/\":\" o 3(sem incluir o ultimo valor)\n",
    "print(uma_lista[1:3])\n",
    "print(uma_lista[:4])\n",
    "print(uma_lista[3:])\n",
    "#se não é dito quando começa e quando termina ele copia toda a lista\n",
    "print(uma_lista[:])"
   ]
  },
  {
   "cell_type": "code",
   "execution_count": 24,
   "metadata": {},
   "outputs": [
    {
     "name": "stdout",
     "output_type": "stream",
     "text": [
      "[5, 2, 3]\n"
     ]
    }
   ],
   "source": [
    "#demostrar a utilização dos indicies\n",
    "a = [1,2,3]\n",
    "b = a[:]\n",
    "b[0]=5\n",
    "print(b)"
   ]
  },
  {
   "cell_type": "code",
   "execution_count": 32,
   "metadata": {},
   "outputs": [
    {
     "name": "stdout",
     "output_type": "stream",
     "text": [
      "[76, 92.3, 'oi', True, 'pitomba', 76]\n"
     ]
    }
   ],
   "source": [
    "minhaLista = [76, 92.3, 'oi', True, 4, 76]\n",
    "minhaLista[4] = 'pitomba'\n",
    "print(minhaLista)\n"
   ]
  },
  {
   "cell_type": "code",
   "execution_count": 41,
   "metadata": {},
   "outputs": [
    {
     "name": "stdout",
     "output_type": "stream",
     "text": [
      "[76, 92.3, 'oi', True, 4, 76, 'pitomba', 76]\n",
      "[76, 92.3, 'oi', 'Cibele']\n",
      "[99, 76, 92.3, 'oi', True, 4, 76]\n",
      "O oi está no indice 2\n",
      "[76, 92.3, 'oi', 4, 76]\n"
     ]
    }
   ],
   "source": [
    "minhaLista = [76, 92.3, 'oi', True, 4, 76]\n",
    "lista2 = ['pitomba',76]\n",
    "print(minhaLista + lista2)\n",
    "\n",
    "print(minhaLista[:3] + [\"Cibele\"])\n",
    "\n",
    "\n",
    "print([99]+minhaLista[:])\n",
    "\n",
    "if minhaLista[0] == 'oi':\n",
    "    print(\"O oi está no indice 0\")\n",
    "elif minhaLista[1] == 'oi':\n",
    "    print(\"O oi está no indice 1\")\n",
    "elif minhaLista[2] == 'oi':\n",
    "    print(\"O oi está no indice 2\")\n",
    "elif minhaLista[3] == 'oi':\n",
    "    print(\"O oi está no indice 3\")\n",
    "elif minhaLista[4] == 'oi':\n",
    "    print(\"O oi está no indice 4\")\n",
    "else:\n",
    "    print(\"O oi está no indice 5\")\n",
    "\n",
    "minhaLista2 = minhaLista[:3]\n",
    "minhaLista3 = minhaLista[4:]\n",
    "print(minhaLista2 + minhaLista3)"
   ]
  }
 ],
 "metadata": {
  "kernelspec": {
   "display_name": "Python 3",
   "language": "python",
   "name": "python3"
  },
  "language_info": {
   "codemirror_mode": {
    "name": "ipython",
    "version": 3
   },
   "file_extension": ".py",
   "mimetype": "text/x-python",
   "name": "python",
   "nbconvert_exporter": "python",
   "pygments_lexer": "ipython3",
   "version": "3.11.4"
  }
 },
 "nbformat": 4,
 "nbformat_minor": 2
}
