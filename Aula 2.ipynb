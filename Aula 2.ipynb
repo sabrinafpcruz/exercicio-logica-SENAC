{
 "cells": [
  {
   "cell_type": "code",
   "execution_count": 48,
   "metadata": {},
   "outputs": [
    {
     "name": "stdout",
     "output_type": "stream",
     "text": [
      "Sabrina\n"
     ]
    }
   ],
   "source": [
    "nome= input(\"Digite seu nome: \")\n",
    "print(nome)"
   ]
  },
  {
   "cell_type": "code",
   "execution_count": 49,
   "metadata": {},
   "outputs": [
    {
     "name": "stdout",
     "output_type": "stream",
     "text": [
      "19\n"
     ]
    }
   ],
   "source": [
    "idade= int(input(\"Digite a sua idade: \"))\n",
    "print(idade)"
   ]
  },
  {
   "cell_type": "code",
   "execution_count": 50,
   "metadata": {},
   "outputs": [
    {
     "name": "stdout",
     "output_type": "stream",
     "text": [
      "Olá, Sabrina e sua idade é 19\n"
     ]
    }
   ],
   "source": [
    "print(f'Olá, {nome} e sua idade é {idade}')"
   ]
  },
  {
   "cell_type": "code",
   "execution_count": 51,
   "metadata": {},
   "outputs": [
    {
     "data": {
      "text/plain": [
       "str"
      ]
     },
     "execution_count": 51,
     "metadata": {},
     "output_type": "execute_result"
    }
   ],
   "source": [
    "type(nome)"
   ]
  },
  {
   "cell_type": "code",
   "execution_count": 52,
   "metadata": {},
   "outputs": [
    {
     "data": {
      "text/plain": [
       "int"
      ]
     },
     "execution_count": 52,
     "metadata": {},
     "output_type": "execute_result"
    }
   ],
   "source": [
    "type(idade)"
   ]
  },
  {
   "cell_type": "code",
   "execution_count": 53,
   "metadata": {},
   "outputs": [],
   "source": [
    "valor1=input('Digite um número inteiro: ')\n",
    "valor2=input('Digite outro número: ')"
   ]
  },
  {
   "cell_type": "code",
   "execution_count": 54,
   "metadata": {},
   "outputs": [
    {
     "name": "stdout",
     "output_type": "stream",
     "text": [
      "False\n",
      "False\n",
      "True\n",
      "False\n",
      "True\n"
     ]
    }
   ],
   "source": [
    "print(valor1 == valor2)\n",
    "print(valor1 > valor2)\n",
    "print(valor1 < valor2)\n",
    "print(valor1 >= valor2)\n",
    "print(valor1 <= valor2)"
   ]
  },
  {
   "cell_type": "code",
   "execution_count": 55,
   "metadata": {},
   "outputs": [
    {
     "name": "stdout",
     "output_type": "stream",
     "text": [
      "False\n"
     ]
    }
   ],
   "source": [
    "senha=\"123456\"\n",
    "_senha=input(\"Digite sua senha:\")\n",
    "print(senha == _senha)"
   ]
  },
  {
   "cell_type": "code",
   "execution_count": 56,
   "metadata": {},
   "outputs": [
    {
     "name": "stdout",
     "output_type": "stream",
     "text": [
      "False\n",
      "True\n",
      "True\n",
      "False\n"
     ]
    }
   ],
   "source": [
    "print(10 > 18 and 3 > 2)\n",
    "print(20 > 28 or 3 < 4)\n",
    "print(1 > 2 and 2 > 3 or 1 > 0)\n",
    "print((1 > 2) and ((2 > 3) or (1 > 0)))"
   ]
  },
  {
   "cell_type": "code",
   "execution_count": 57,
   "metadata": {},
   "outputs": [
    {
     "name": "stdout",
     "output_type": "stream",
     "text": [
      "False\n"
     ]
    }
   ],
   "source": [
    "numero=10\n",
    "print(numero > 0 and numero < 10)"
   ]
  },
  {
   "cell_type": "code",
   "execution_count": 58,
   "metadata": {},
   "outputs": [
    {
     "name": "stdout",
     "output_type": "stream",
     "text": [
      "True\n"
     ]
    }
   ],
   "source": [
    "numero=10\n",
    "print(numero > 0 or numero < 10)"
   ]
  },
  {
   "cell_type": "code",
   "execution_count": 59,
   "metadata": {},
   "outputs": [
    {
     "name": "stdout",
     "output_type": "stream",
     "text": [
      "O 2 é par\n"
     ]
    }
   ],
   "source": [
    "#solicitar o número inteiro\n",
    "numero=int(input(\"Digite um número: \"))\n",
    "\n",
    "#avaliar se é par ou ímpar\n",
    "if (numero%2 == 0):\n",
    "    print(f'O {numero} é par')\n",
    "else:\n",
    "    print(f'O {numero} é ímpar')"
   ]
  },
  {
   "cell_type": "code",
   "execution_count": 60,
   "metadata": {},
   "outputs": [],
   "source": [
    "#solicitar cupom\n",
    "cupom = input('Digite o cupom: ')"
   ]
  },
  {
   "cell_type": "code",
   "execution_count": 61,
   "metadata": {},
   "outputs": [],
   "source": [
    "if (cupom == 'aula1' or cupom == 'aula2'):\n",
    "    print('Voce ganhou 10% de desconto')"
   ]
  }
 ],
 "metadata": {
  "kernelspec": {
   "display_name": "Python 3",
   "language": "python",
   "name": "python3"
  },
  "language_info": {
   "codemirror_mode": {
    "name": "ipython",
    "version": 3
   },
   "file_extension": ".py",
   "mimetype": "text/x-python",
   "name": "python",
   "nbconvert_exporter": "python",
   "pygments_lexer": "ipython3",
   "version": "3.11.4"
  }
 },
 "nbformat": 4,
 "nbformat_minor": 2
}
